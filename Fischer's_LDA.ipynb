{
  "cells": [
    {
      "cell_type": "markdown",
      "metadata": {
        "id": "view-in-github",
        "colab_type": "text"
      },
      "source": [
        "<a href=\"https://colab.research.google.com/github/rajni0829/DataScience/blob/main/Fischer's_LDA.ipynb\" target=\"_parent\"><img src=\"https://colab.research.google.com/assets/colab-badge.svg\" alt=\"Open In Colab\"/></a>"
      ]
    },
    {
      "cell_type": "markdown",
      "id": "2e9c1e00",
      "metadata": {
        "id": "2e9c1e00"
      },
      "source": [
        "## AIM : To Implement Fischer’s Linear Discriminant Analysis in Python \n",
        "\n"
      ]
    },
    {
      "cell_type": "markdown",
      "id": "20f2c423",
      "metadata": {
        "id": "20f2c423"
      },
      "source": [
        "Fischer's LDA Concept : Reduce Dimension by maximizing the distance between means and minimizing within-class variance.\n"
      ]
    },
    {
      "cell_type": "code",
      "execution_count": null,
      "id": "b716c25f",
      "metadata": {
        "id": "b716c25f"
      },
      "outputs": [],
      "source": [
        "# Importing Libraries\n",
        "import matplotlib.pyplot as plt\n",
        "from sklearn import datasets\n"
      ]
    },
    {
      "cell_type": "code",
      "execution_count": null,
      "id": "4a69f84f",
      "metadata": {
        "id": "4a69f84f",
        "outputId": "0f9e8663-2059-4917-bc95-ca8cc868709c"
      },
      "outputs": [
        {
          "data": {
            "text/plain": [
              "array([[5.1, 3.5, 1.4, 0.2],\n",
              "       [4.9, 3. , 1.4, 0.2],\n",
              "       [4.7, 3.2, 1.3, 0.2],\n",
              "       [4.6, 3.1, 1.5, 0.2],\n",
              "       [5. , 3.6, 1.4, 0.2],\n",
              "       [5.4, 3.9, 1.7, 0.4],\n",
              "       [4.6, 3.4, 1.4, 0.3],\n",
              "       [5. , 3.4, 1.5, 0.2],\n",
              "       [4.4, 2.9, 1.4, 0.2],\n",
              "       [4.9, 3.1, 1.5, 0.1],\n",
              "       [5.4, 3.7, 1.5, 0.2],\n",
              "       [4.8, 3.4, 1.6, 0.2],\n",
              "       [4.8, 3. , 1.4, 0.1],\n",
              "       [4.3, 3. , 1.1, 0.1],\n",
              "       [5.8, 4. , 1.2, 0.2],\n",
              "       [5.7, 4.4, 1.5, 0.4],\n",
              "       [5.4, 3.9, 1.3, 0.4],\n",
              "       [5.1, 3.5, 1.4, 0.3],\n",
              "       [5.7, 3.8, 1.7, 0.3],\n",
              "       [5.1, 3.8, 1.5, 0.3],\n",
              "       [5.4, 3.4, 1.7, 0.2],\n",
              "       [5.1, 3.7, 1.5, 0.4],\n",
              "       [4.6, 3.6, 1. , 0.2],\n",
              "       [5.1, 3.3, 1.7, 0.5],\n",
              "       [4.8, 3.4, 1.9, 0.2],\n",
              "       [5. , 3. , 1.6, 0.2],\n",
              "       [5. , 3.4, 1.6, 0.4],\n",
              "       [5.2, 3.5, 1.5, 0.2],\n",
              "       [5.2, 3.4, 1.4, 0.2],\n",
              "       [4.7, 3.2, 1.6, 0.2],\n",
              "       [4.8, 3.1, 1.6, 0.2],\n",
              "       [5.4, 3.4, 1.5, 0.4],\n",
              "       [5.2, 4.1, 1.5, 0.1],\n",
              "       [5.5, 4.2, 1.4, 0.2],\n",
              "       [4.9, 3.1, 1.5, 0.2],\n",
              "       [5. , 3.2, 1.2, 0.2],\n",
              "       [5.5, 3.5, 1.3, 0.2],\n",
              "       [4.9, 3.6, 1.4, 0.1],\n",
              "       [4.4, 3. , 1.3, 0.2],\n",
              "       [5.1, 3.4, 1.5, 0.2],\n",
              "       [5. , 3.5, 1.3, 0.3],\n",
              "       [4.5, 2.3, 1.3, 0.3],\n",
              "       [4.4, 3.2, 1.3, 0.2],\n",
              "       [5. , 3.5, 1.6, 0.6],\n",
              "       [5.1, 3.8, 1.9, 0.4],\n",
              "       [4.8, 3. , 1.4, 0.3],\n",
              "       [5.1, 3.8, 1.6, 0.2],\n",
              "       [4.6, 3.2, 1.4, 0.2],\n",
              "       [5.3, 3.7, 1.5, 0.2],\n",
              "       [5. , 3.3, 1.4, 0.2],\n",
              "       [7. , 3.2, 4.7, 1.4],\n",
              "       [6.4, 3.2, 4.5, 1.5],\n",
              "       [6.9, 3.1, 4.9, 1.5],\n",
              "       [5.5, 2.3, 4. , 1.3],\n",
              "       [6.5, 2.8, 4.6, 1.5],\n",
              "       [5.7, 2.8, 4.5, 1.3],\n",
              "       [6.3, 3.3, 4.7, 1.6],\n",
              "       [4.9, 2.4, 3.3, 1. ],\n",
              "       [6.6, 2.9, 4.6, 1.3],\n",
              "       [5.2, 2.7, 3.9, 1.4],\n",
              "       [5. , 2. , 3.5, 1. ],\n",
              "       [5.9, 3. , 4.2, 1.5],\n",
              "       [6. , 2.2, 4. , 1. ],\n",
              "       [6.1, 2.9, 4.7, 1.4],\n",
              "       [5.6, 2.9, 3.6, 1.3],\n",
              "       [6.7, 3.1, 4.4, 1.4],\n",
              "       [5.6, 3. , 4.5, 1.5],\n",
              "       [5.8, 2.7, 4.1, 1. ],\n",
              "       [6.2, 2.2, 4.5, 1.5],\n",
              "       [5.6, 2.5, 3.9, 1.1],\n",
              "       [5.9, 3.2, 4.8, 1.8],\n",
              "       [6.1, 2.8, 4. , 1.3],\n",
              "       [6.3, 2.5, 4.9, 1.5],\n",
              "       [6.1, 2.8, 4.7, 1.2],\n",
              "       [6.4, 2.9, 4.3, 1.3],\n",
              "       [6.6, 3. , 4.4, 1.4],\n",
              "       [6.8, 2.8, 4.8, 1.4],\n",
              "       [6.7, 3. , 5. , 1.7],\n",
              "       [6. , 2.9, 4.5, 1.5],\n",
              "       [5.7, 2.6, 3.5, 1. ],\n",
              "       [5.5, 2.4, 3.8, 1.1],\n",
              "       [5.5, 2.4, 3.7, 1. ],\n",
              "       [5.8, 2.7, 3.9, 1.2],\n",
              "       [6. , 2.7, 5.1, 1.6],\n",
              "       [5.4, 3. , 4.5, 1.5],\n",
              "       [6. , 3.4, 4.5, 1.6],\n",
              "       [6.7, 3.1, 4.7, 1.5],\n",
              "       [6.3, 2.3, 4.4, 1.3],\n",
              "       [5.6, 3. , 4.1, 1.3],\n",
              "       [5.5, 2.5, 4. , 1.3],\n",
              "       [5.5, 2.6, 4.4, 1.2],\n",
              "       [6.1, 3. , 4.6, 1.4],\n",
              "       [5.8, 2.6, 4. , 1.2],\n",
              "       [5. , 2.3, 3.3, 1. ],\n",
              "       [5.6, 2.7, 4.2, 1.3],\n",
              "       [5.7, 3. , 4.2, 1.2],\n",
              "       [5.7, 2.9, 4.2, 1.3],\n",
              "       [6.2, 2.9, 4.3, 1.3],\n",
              "       [5.1, 2.5, 3. , 1.1],\n",
              "       [5.7, 2.8, 4.1, 1.3],\n",
              "       [6.3, 3.3, 6. , 2.5],\n",
              "       [5.8, 2.7, 5.1, 1.9],\n",
              "       [7.1, 3. , 5.9, 2.1],\n",
              "       [6.3, 2.9, 5.6, 1.8],\n",
              "       [6.5, 3. , 5.8, 2.2],\n",
              "       [7.6, 3. , 6.6, 2.1],\n",
              "       [4.9, 2.5, 4.5, 1.7],\n",
              "       [7.3, 2.9, 6.3, 1.8],\n",
              "       [6.7, 2.5, 5.8, 1.8],\n",
              "       [7.2, 3.6, 6.1, 2.5],\n",
              "       [6.5, 3.2, 5.1, 2. ],\n",
              "       [6.4, 2.7, 5.3, 1.9],\n",
              "       [6.8, 3. , 5.5, 2.1],\n",
              "       [5.7, 2.5, 5. , 2. ],\n",
              "       [5.8, 2.8, 5.1, 2.4],\n",
              "       [6.4, 3.2, 5.3, 2.3],\n",
              "       [6.5, 3. , 5.5, 1.8],\n",
              "       [7.7, 3.8, 6.7, 2.2],\n",
              "       [7.7, 2.6, 6.9, 2.3],\n",
              "       [6. , 2.2, 5. , 1.5],\n",
              "       [6.9, 3.2, 5.7, 2.3],\n",
              "       [5.6, 2.8, 4.9, 2. ],\n",
              "       [7.7, 2.8, 6.7, 2. ],\n",
              "       [6.3, 2.7, 4.9, 1.8],\n",
              "       [6.7, 3.3, 5.7, 2.1],\n",
              "       [7.2, 3.2, 6. , 1.8],\n",
              "       [6.2, 2.8, 4.8, 1.8],\n",
              "       [6.1, 3. , 4.9, 1.8],\n",
              "       [6.4, 2.8, 5.6, 2.1],\n",
              "       [7.2, 3. , 5.8, 1.6],\n",
              "       [7.4, 2.8, 6.1, 1.9],\n",
              "       [7.9, 3.8, 6.4, 2. ],\n",
              "       [6.4, 2.8, 5.6, 2.2],\n",
              "       [6.3, 2.8, 5.1, 1.5],\n",
              "       [6.1, 2.6, 5.6, 1.4],\n",
              "       [7.7, 3. , 6.1, 2.3],\n",
              "       [6.3, 3.4, 5.6, 2.4],\n",
              "       [6.4, 3.1, 5.5, 1.8],\n",
              "       [6. , 3. , 4.8, 1.8],\n",
              "       [6.9, 3.1, 5.4, 2.1],\n",
              "       [6.7, 3.1, 5.6, 2.4],\n",
              "       [6.9, 3.1, 5.1, 2.3],\n",
              "       [5.8, 2.7, 5.1, 1.9],\n",
              "       [6.8, 3.2, 5.9, 2.3],\n",
              "       [6.7, 3.3, 5.7, 2.5],\n",
              "       [6.7, 3. , 5.2, 2.3],\n",
              "       [6.3, 2.5, 5. , 1.9],\n",
              "       [6.5, 3. , 5.2, 2. ],\n",
              "       [6.2, 3.4, 5.4, 2.3],\n",
              "       [5.9, 3. , 5.1, 1.8]])"
            ]
          },
          "execution_count": 2,
          "metadata": {},
          "output_type": "execute_result"
        }
      ],
      "source": [
        "data = datasets.load_iris()\n",
        "X, y = data.data, data.target\n",
        "X\n"
      ]
    },
    {
      "cell_type": "code",
      "execution_count": null,
      "id": "aa1b1bd7",
      "metadata": {
        "id": "aa1b1bd7",
        "outputId": "3a3eee7d-92a8-4ddc-a6a7-91e0dcc0ba6a"
      },
      "outputs": [
        {
          "data": {
            "text/plain": [
              "array([0, 0, 0, 0, 0, 0, 0, 0, 0, 0, 0, 0, 0, 0, 0, 0, 0, 0, 0, 0, 0, 0,\n",
              "       0, 0, 0, 0, 0, 0, 0, 0, 0, 0, 0, 0, 0, 0, 0, 0, 0, 0, 0, 0, 0, 0,\n",
              "       0, 0, 0, 0, 0, 0, 1, 1, 1, 1, 1, 1, 1, 1, 1, 1, 1, 1, 1, 1, 1, 1,\n",
              "       1, 1, 1, 1, 1, 1, 1, 1, 1, 1, 1, 1, 1, 1, 1, 1, 1, 1, 1, 1, 1, 1,\n",
              "       1, 1, 1, 1, 1, 1, 1, 1, 1, 1, 1, 1, 2, 2, 2, 2, 2, 2, 2, 2, 2, 2,\n",
              "       2, 2, 2, 2, 2, 2, 2, 2, 2, 2, 2, 2, 2, 2, 2, 2, 2, 2, 2, 2, 2, 2,\n",
              "       2, 2, 2, 2, 2, 2, 2, 2, 2, 2, 2, 2, 2, 2, 2, 2, 2, 2])"
            ]
          },
          "execution_count": 3,
          "metadata": {},
          "output_type": "execute_result"
        }
      ],
      "source": [
        "y\n"
      ]
    },
    {
      "cell_type": "code",
      "execution_count": null,
      "id": "4ca041ca",
      "metadata": {
        "id": "4ca041ca"
      },
      "outputs": [],
      "source": [
        "import numpy as np\n",
        "\n",
        "class LDA:\n",
        "    def __init__(self,n_comp):\n",
        "        self.n_comp = n_comp\n",
        "        self.discriminants = None       # to store eigenvectors we compute\n",
        "        \n",
        "    def fit(self,X,y):                  \n",
        "        n_features = X.shape[1]         # .shapes = (no(samples),no(features))\n",
        "        class_labels = np.unique(y)     # returns uniq labels as list\n",
        "        \n",
        "        \n",
        "        #1. calculating scatter Matrix - in class(S_W)\n",
        "        mean_overall = np.mean(X,axis = 0)\n",
        "        S_W = np.zeros((n_features,n_features))               # 4,4\n",
        "        \n",
        "        \n",
        "        #2. calculating scatter Matrix - in class(S_B) \n",
        "        S_B = np.zeros((n_features,n_features))               # 4,4\n",
        "        \n",
        "        # Finding Sum \n",
        "        for c in class_labels:\n",
        "            X_c = X[y==c]                          \n",
        "            # getting features only = class labels\n",
        "            mean_c = np.mean(X_c,axis =0)\n",
        "            \n",
        "            # WITHIN SCATTER CLASS MATRIX\n",
        "            S_W += (X_c - mean_c).T.dot((X_c - mean_c))       #(4,n_c)*(n_c,4) = (4,4)\n",
        "            \n",
        "            # BETWEEN CLASS SCATTER\n",
        "            n_c = X_c.shape[0]\n",
        "            # (4,1)* (4,1)T = (4,4)\n",
        "            mean_diff = (mean_c-mean_overall).reshape(n_features,1)   #(4,null)-> (4,1)\n",
        "            S_B += n_c*(mean_diff).dot(mean_diff.T)\n",
        "            \n",
        "        #3. Inverse of Within Class Scatter(S_W).S_B\n",
        "        A = np.linalg.inv(S_W).dot(S_B)\n",
        "        \n",
        "        #4. Now, solving for EVls & EVts\n",
        "        eigenvalues, eigenvectors = np.linalg.eig(A)\n",
        "        eigenvectors = eigenvectors.T\n",
        "        idxs = np.argsort(abs(eigenvalues))[::-1]                     # sorting\n",
        "        eigenvalues = eigenvalues[idxs]\n",
        "        eigenvectors = eigenvectors[idxs]\n",
        "        self.linear_discriminants = eigenvectors[0:self.n_comp]\n",
        "        \n",
        "        \n",
        "    \n",
        "    def transform(self,X):                             # predict method (same as in PCA) \n",
        "        return np.dot(X,self.linear_discriminants.T)   # returns new data we wanna project\n",
        "    \n",
        "    \n",
        "    \n",
        "        # rules for matrix : last D of 1st matrix = 1st D of 2nd matrix\n",
        "        # checking for Iris Dateset, therefore (n_features = 150,4)(S_W=4,4)(S_B=4,4)\n",
        "        "
      ]
    },
    {
      "cell_type": "code",
      "execution_count": null,
      "id": "700a08e6",
      "metadata": {
        "id": "700a08e6",
        "outputId": "f6ea6121-2a11-42ce-e92e-6f72f0db4443"
      },
      "outputs": [
        {
          "name": "stdout",
          "output_type": "stream",
          "text": [
            "Shape of X: (150, 4)\n",
            "Shape of transformed X: (150, 2)\n"
          ]
        }
      ],
      "source": [
        "#5. Projecting the data onto the 2 primary linear discriminants\n",
        "lda = LDA(2)\n",
        "lda.fit(X, y)\n",
        "X_projected = lda.transform(X)\n",
        "\n",
        "print(\"Shape of X:\", X.shape)\n",
        "print(\"Shape of transformed X:\", X_projected.shape)\n"
      ]
    },
    {
      "cell_type": "code",
      "execution_count": null,
      "id": "02171160",
      "metadata": {
        "id": "02171160",
        "outputId": "0ce4fe03-462f-4ae5-8d1c-bd6a2214f4d7"
      },
      "outputs": [
        {
          "name": "stdout",
          "output_type": "stream",
          "text": [
            "[-1.49920971 -1.2643595  -1.35525305 -1.18495616 -1.5169559  -1.40864014\n",
            " -1.28548339 -1.38431399 -1.12136823 -1.31831374 -1.58367182 -1.28716445\n",
            " -1.31422036 -1.37605297 -1.94923317 -1.77516687 -1.63024483 -1.42847467\n",
            " -1.50337736 -1.48893461 -1.35700838 -1.3795792  -1.65506386 -1.04356034\n",
            " -1.12096094 -1.17443134 -1.18744274 -1.46468272 -1.48146353 -1.18904953\n",
            " -1.17130335 -1.32634064 -1.76713997 -1.85304902 -1.2475787  -1.47327677\n",
            " -1.63810761 -1.56681676 -1.21538977 -1.40518817 -1.46300166 -0.89518633\n",
            " -1.2926305  -1.08459303 -1.19659488 -1.17275028 -1.50426848 -1.2789777\n",
            " -1.56279764 -1.40109479  0.89710107  0.98227886  1.138133    1.09925388\n",
            "  1.17128732  1.14140953  1.14607006  0.58586528  0.97032269  1.02272882\n",
            "  0.83027492  0.99768699  0.82129822  1.20082982  0.6250528   0.83214047\n",
            "  1.22651305  0.72534591  1.41023091  0.80426771  1.4650584   0.78090694\n",
            "  1.49510031  1.0979801   0.84586754  0.89163502  1.14873208  1.41537299\n",
            "  1.18163669  0.45243343  0.80836109  0.68222488  0.75601365  1.6620195\n",
            "  1.26826142  1.05926989  1.06907902  1.15386511  0.86343829  1.02201314\n",
            "  1.13426242  1.10680828  0.85003519  0.60361147  1.03470057  0.82723024\n",
            "  0.93658565  0.88761591  0.41002808  0.91980484  2.50290064  1.91597298\n",
            "  2.11342696  1.94063215  2.25400592  2.39686425  1.70720425  2.11969853\n",
            "  2.12241924  2.25457307  1.6474869   1.90153023  1.95444482  2.02942177\n",
            "  2.23102781  1.99136855  1.80486225  2.19316333  2.83814514  1.72898513\n",
            "  2.10860232  1.87903368  2.43789694  1.63006469  1.97026024  1.85850809\n",
            "  1.55691733  1.55595195  2.17058346  1.68347641  2.09737742  1.84374137\n",
            "  2.2413185   1.49004155  1.81530147  2.24045429  2.17194055  1.78711606\n",
            "  1.52142496  1.8395491   2.20430493  1.81481566  1.91597298  2.24027885\n",
            "  2.2532004   1.95058557  1.83344164  1.78012881  2.01127735  1.70850266] [-1.88675441 -1.59214275 -1.73341462 -1.62358806 -1.94476227 -2.20148038\n",
            " -1.90177269 -1.80218401 -1.53021571 -1.54860234 -1.98077996 -1.77562146\n",
            " -1.51454424 -1.58704672 -2.23514437 -2.54725756 -2.302505   -1.96369972\n",
            " -2.06783361 -2.11442674 -1.75428449 -2.13271099 -2.0431741  -1.92449977\n",
            " -1.699853   -1.54228363 -1.93081847 -1.86215146 -1.82874656 -1.65764616\n",
            " -1.5996383  -1.95868741 -2.13717248 -2.29999459 -1.62554765 -1.76063036\n",
            " -1.91462335 -1.86716377 -1.61413292 -1.80283721 -1.98830268 -1.28110404\n",
            " -1.73145503 -2.14337015 -2.09034743 -1.66843486 -2.01222527 -1.70750527\n",
            " -1.98012676 -1.76877911 -1.81307261 -1.93661105 -1.78019136 -1.37517293\n",
            " -1.67736387 -1.54350383 -2.02105191 -1.37587196 -1.5827875  -1.71005903\n",
            " -1.09136863 -1.89179142 -1.08894193 -1.63121068 -1.82881708 -1.82822043\n",
            " -1.81406337 -1.35568466 -1.3486941  -1.36451378 -2.08841253 -1.67239739\n",
            " -1.42430585 -1.418659   -1.65724957 -1.76890617 -1.55186584 -1.84885837\n",
            " -1.7580151  -1.44790734 -1.33045568 -1.27876652 -1.56008759 -1.56610137\n",
            " -1.81275697 -2.12826568 -1.82939727 -1.27937389 -1.76119736 -1.49249504\n",
            " -1.37318617 -1.71512788 -1.47617038 -1.3178641  -1.55995804 -1.6596491\n",
            " -1.67793335 -1.65594318 -1.58855318 -1.64452845 -2.38522969 -1.79563091\n",
            " -1.93194701 -1.71299292 -2.0302293  -1.75841992 -1.67007633 -1.54273181\n",
            " -1.43044918 -2.54183547 -2.17045387 -1.74903778 -2.03101204 -1.77985706\n",
            " -2.23901851 -2.35012429 -1.79821652 -2.28005071 -1.60255105 -1.22110694\n",
            " -2.25236566 -1.98044319 -1.53954954 -1.77246389 -2.1558297  -1.79383024\n",
            " -1.8557279  -1.94714066 -1.88582099 -1.57312982 -1.61218156 -2.20323495\n",
            " -1.9627663  -1.54977671 -1.22792212 -2.0392445  -2.46797005 -1.85622438\n",
            " -1.97174362 -2.11558244 -2.29459967 -2.34524152 -1.79563091 -2.20120015\n",
            " -2.46361094 -2.26001792 -1.70683093 -2.0278756  -2.44088385 -1.89532196]\n"
          ]
        }
      ],
      "source": [
        "x1, x2 = X_projected[:, 0], X_projected[:, 1]\n",
        "print(x1,x2)\n"
      ]
    },
    {
      "cell_type": "code",
      "execution_count": null,
      "id": "0391508a",
      "metadata": {
        "id": "0391508a",
        "outputId": "ed237740-648c-4000-e50e-898675ec4d2f"
      },
      "outputs": [
        {
          "data": {
            "image/png": "[encoded data removed]",
            "text/plain": [
              "<Figure size 432x288 with 2 Axes>"
            ]
          },
          "metadata": {
            "needs_background": "light"
          },
          "output_type": "display_data"
        }
      ],
      "source": [
        "# Plotting Data After Separation of Classes\n",
        "plt.scatter(\n",
        "    x1, x2, c=y, edgecolor=\"none\", alpha=0.8, cmap=plt.cm.get_cmap(\"viridis\", 3)\n",
        ")\n",
        "\n",
        "plt.xlabel(\"Linear Discriminant 1\")\n",
        "plt.ylabel(\"Linear Discriminant 2\")\n",
        "plt.colorbar()\n",
        "plt.show()\n"
      ]
    },
    {
      "cell_type": "markdown",
      "id": "5f46174d",
      "metadata": {
        "id": "5f46174d"
      },
      "source": [
        " ### CONCLUSION : Fischer's  Linear Discriminant Analysis has been successfully Implemented.\n",
        " "
      ]
    }
  ],
  "metadata": {
    "kernelspec": {
      "display_name": "Python 3",
      "language": "python",
      "name": "python3"
    },
    "language_info": {
      "codemirror_mode": {
        "name": "ipython",
        "version": 3
      },
      "file_extension": ".py",
      "mimetype": "text/x-python",
      "name": "python",
      "nbconvert_exporter": "python",
      "pygments_lexer": "ipython3",
      "version": "3.10.2"
    },
    "colab": {
      "name": "Fischer's LDA.ipynb",
      "provenance": [],
      "include_colab_link": true
    }
  },
  "nbformat": 4,
  "nbformat_minor": 5
}