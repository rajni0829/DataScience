{
 "cells": [
  {
   "cell_type": "markdown",
   "id": "dfeeaca1",
   "metadata": {},
   "source": [
    "Aim: Consider two data sets given i.e. Customer Behavior and House Price Prediction.\n",
    "\n",
    "I. Find Bivariate Association between numeric variables using Covariance and Simple Correlation\n",
    "for the given “House Price Prediction” Data set. Represent the results of covariance and\n",
    "correlation into n*n matrices. Where n is the number of numeric variables.\n",
    "\n",
    "II. Find Bivariate Association between categorical variable “Gender” and numerical variable\n",
    "“Salary” using Point Biserial Correlation for the given Data set i.e. “Customer Behavior”."
   ]
  },
  {
   "cell_type": "code",
   "execution_count": 23,
   "id": "f03b173f",
   "metadata": {},
   "outputs": [],
   "source": [
    "import pandas as pd\n",
    "# creating dataframe variable\n",
    "cf = pd.read_csv(\"kc_house_data.csv\")"
   ]
  },
  {
   "cell_type": "code",
   "execution_count": 5,
   "id": "9841668e",
   "metadata": {},
   "outputs": [
    {
     "data": {
      "text/html": [
       "<div>\n",
       "<style scoped>\n",
       "    .dataframe tbody tr th:only-of-type {\n",
       "        vertical-align: middle;\n",
       "    }\n",
       "\n",
       "    .dataframe tbody tr th {\n",
       "        vertical-align: top;\n",
       "    }\n",
       "\n",
       "    .dataframe thead th {\n",
       "        text-align: right;\n",
       "    }\n",
       "</style>\n",
       "<table border=\"1\" class=\"dataframe\">\n",
       "  <thead>\n",
       "    <tr style=\"text-align: right;\">\n",
       "      <th></th>\n",
       "      <th>id</th>\n",
       "      <th>price</th>\n",
       "      <th>sqft_living</th>\n",
       "      <th>floors</th>\n",
       "      <th>zipcode</th>\n",
       "    </tr>\n",
       "  </thead>\n",
       "  <tbody>\n",
       "    <tr>\n",
       "      <th>0</th>\n",
       "      <td>7129300520</td>\n",
       "      <td>221900.0</td>\n",
       "      <td>1180</td>\n",
       "      <td>1.0</td>\n",
       "      <td>98178</td>\n",
       "    </tr>\n",
       "    <tr>\n",
       "      <th>1</th>\n",
       "      <td>6414100192</td>\n",
       "      <td>538000.0</td>\n",
       "      <td>2570</td>\n",
       "      <td>2.0</td>\n",
       "      <td>98125</td>\n",
       "    </tr>\n",
       "    <tr>\n",
       "      <th>2</th>\n",
       "      <td>5631500400</td>\n",
       "      <td>180000.0</td>\n",
       "      <td>770</td>\n",
       "      <td>1.0</td>\n",
       "      <td>98028</td>\n",
       "    </tr>\n",
       "    <tr>\n",
       "      <th>3</th>\n",
       "      <td>2487200875</td>\n",
       "      <td>604000.0</td>\n",
       "      <td>1960</td>\n",
       "      <td>1.0</td>\n",
       "      <td>98136</td>\n",
       "    </tr>\n",
       "    <tr>\n",
       "      <th>4</th>\n",
       "      <td>1954400510</td>\n",
       "      <td>510000.0</td>\n",
       "      <td>1680</td>\n",
       "      <td>1.0</td>\n",
       "      <td>98074</td>\n",
       "    </tr>\n",
       "    <tr>\n",
       "      <th>...</th>\n",
       "      <td>...</td>\n",
       "      <td>...</td>\n",
       "      <td>...</td>\n",
       "      <td>...</td>\n",
       "      <td>...</td>\n",
       "    </tr>\n",
       "    <tr>\n",
       "      <th>21608</th>\n",
       "      <td>263000018</td>\n",
       "      <td>360000.0</td>\n",
       "      <td>1530</td>\n",
       "      <td>3.0</td>\n",
       "      <td>98103</td>\n",
       "    </tr>\n",
       "    <tr>\n",
       "      <th>21609</th>\n",
       "      <td>6600060120</td>\n",
       "      <td>400000.0</td>\n",
       "      <td>2310</td>\n",
       "      <td>2.0</td>\n",
       "      <td>98146</td>\n",
       "    </tr>\n",
       "    <tr>\n",
       "      <th>21610</th>\n",
       "      <td>1523300141</td>\n",
       "      <td>402101.0</td>\n",
       "      <td>1020</td>\n",
       "      <td>2.0</td>\n",
       "      <td>98144</td>\n",
       "    </tr>\n",
       "    <tr>\n",
       "      <th>21611</th>\n",
       "      <td>291310100</td>\n",
       "      <td>400000.0</td>\n",
       "      <td>1600</td>\n",
       "      <td>2.0</td>\n",
       "      <td>98027</td>\n",
       "    </tr>\n",
       "    <tr>\n",
       "      <th>21612</th>\n",
       "      <td>1523300157</td>\n",
       "      <td>325000.0</td>\n",
       "      <td>1020</td>\n",
       "      <td>2.0</td>\n",
       "      <td>98144</td>\n",
       "    </tr>\n",
       "  </tbody>\n",
       "</table>\n",
       "<p>21613 rows × 5 columns</p>\n",
       "</div>"
      ],
      "text/plain": [
       "               id     price  sqft_living  floors  zipcode\n",
       "0      7129300520  221900.0         1180     1.0    98178\n",
       "1      6414100192  538000.0         2570     2.0    98125\n",
       "2      5631500400  180000.0          770     1.0    98028\n",
       "3      2487200875  604000.0         1960     1.0    98136\n",
       "4      1954400510  510000.0         1680     1.0    98074\n",
       "...           ...       ...          ...     ...      ...\n",
       "21608   263000018  360000.0         1530     3.0    98103\n",
       "21609  6600060120  400000.0         2310     2.0    98146\n",
       "21610  1523300141  402101.0         1020     2.0    98144\n",
       "21611   291310100  400000.0         1600     2.0    98027\n",
       "21612  1523300157  325000.0         1020     2.0    98144\n",
       "\n",
       "[21613 rows x 5 columns]"
      ]
     },
     "execution_count": 5,
     "metadata": {},
     "output_type": "execute_result"
    }
   ],
   "source": [
    "cf"
   ]
  },
  {
   "cell_type": "code",
   "execution_count": 6,
   "id": "1b28ef43",
   "metadata": {},
   "outputs": [],
   "source": [
    "# dropping non required columns (User ID, Gender, Purchased)\n",
    "df = cf.drop(labels = [\"id\", \"floors\", \"zipcode\"], axis = 1)"
   ]
  },
  {
   "cell_type": "code",
   "execution_count": 7,
   "id": "4d0daa3f",
   "metadata": {},
   "outputs": [
    {
     "data": {
      "text/html": [
       "<div>\n",
       "<style scoped>\n",
       "    .dataframe tbody tr th:only-of-type {\n",
       "        vertical-align: middle;\n",
       "    }\n",
       "\n",
       "    .dataframe tbody tr th {\n",
       "        vertical-align: top;\n",
       "    }\n",
       "\n",
       "    .dataframe thead th {\n",
       "        text-align: right;\n",
       "    }\n",
       "</style>\n",
       "<table border=\"1\" class=\"dataframe\">\n",
       "  <thead>\n",
       "    <tr style=\"text-align: right;\">\n",
       "      <th></th>\n",
       "      <th>price</th>\n",
       "      <th>sqft_living</th>\n",
       "    </tr>\n",
       "  </thead>\n",
       "  <tbody>\n",
       "    <tr>\n",
       "      <th>0</th>\n",
       "      <td>221900.0</td>\n",
       "      <td>1180</td>\n",
       "    </tr>\n",
       "    <tr>\n",
       "      <th>1</th>\n",
       "      <td>538000.0</td>\n",
       "      <td>2570</td>\n",
       "    </tr>\n",
       "    <tr>\n",
       "      <th>2</th>\n",
       "      <td>180000.0</td>\n",
       "      <td>770</td>\n",
       "    </tr>\n",
       "    <tr>\n",
       "      <th>3</th>\n",
       "      <td>604000.0</td>\n",
       "      <td>1960</td>\n",
       "    </tr>\n",
       "    <tr>\n",
       "      <th>4</th>\n",
       "      <td>510000.0</td>\n",
       "      <td>1680</td>\n",
       "    </tr>\n",
       "    <tr>\n",
       "      <th>...</th>\n",
       "      <td>...</td>\n",
       "      <td>...</td>\n",
       "    </tr>\n",
       "    <tr>\n",
       "      <th>21608</th>\n",
       "      <td>360000.0</td>\n",
       "      <td>1530</td>\n",
       "    </tr>\n",
       "    <tr>\n",
       "      <th>21609</th>\n",
       "      <td>400000.0</td>\n",
       "      <td>2310</td>\n",
       "    </tr>\n",
       "    <tr>\n",
       "      <th>21610</th>\n",
       "      <td>402101.0</td>\n",
       "      <td>1020</td>\n",
       "    </tr>\n",
       "    <tr>\n",
       "      <th>21611</th>\n",
       "      <td>400000.0</td>\n",
       "      <td>1600</td>\n",
       "    </tr>\n",
       "    <tr>\n",
       "      <th>21612</th>\n",
       "      <td>325000.0</td>\n",
       "      <td>1020</td>\n",
       "    </tr>\n",
       "  </tbody>\n",
       "</table>\n",
       "<p>21613 rows × 2 columns</p>\n",
       "</div>"
      ],
      "text/plain": [
       "          price  sqft_living\n",
       "0      221900.0         1180\n",
       "1      538000.0         2570\n",
       "2      180000.0          770\n",
       "3      604000.0         1960\n",
       "4      510000.0         1680\n",
       "...         ...          ...\n",
       "21608  360000.0         1530\n",
       "21609  400000.0         2310\n",
       "21610  402101.0         1020\n",
       "21611  400000.0         1600\n",
       "21612  325000.0         1020\n",
       "\n",
       "[21613 rows x 2 columns]"
      ]
     },
     "execution_count": 7,
     "metadata": {},
     "output_type": "execute_result"
    }
   ],
   "source": [
    "df"
   ]
  },
  {
   "cell_type": "code",
   "execution_count": 9,
   "id": "5255b9d6",
   "metadata": {},
   "outputs": [],
   "source": [
    "import matplotlib.pyplot as plt"
   ]
  },
  {
   "cell_type": "code",
   "execution_count": 10,
   "id": "c0fbd814",
   "metadata": {},
   "outputs": [
    {
     "data": {
      "image/png": "[encoded data removed]",
      "text/plain": [
       "<Figure size 432x288 with 1 Axes>"
      ]
     },
     "metadata": {
      "needs_background": "light"
     },
     "output_type": "display_data"
    }
   ],
   "source": [
    "plt.scatter(df['price'], df['sqft_living'])\n",
    "plt.show()"
   ]
  },
  {
   "cell_type": "markdown",
   "id": "57a313ee",
   "metadata": {},
   "source": [
    "Before starting with the calculations, the following definations are :\n",
    "Covariance :\n",
    "Covariance provides insight into how two variables are related to one another. More precisely, covariance\n",
    "refers to the measure of how two random variables in a data set will change together. If the covariance is\n",
    "positive that means the variables are directly related or directly proportional and if the covariance is negative\n",
    "that means the variables are indirectly related or inversely proportional.\n",
    "\n",
    "Correlation :\n",
    "Correlation is a statistical technique that can show whether and how strongly pairs of variables are related."
   ]
  },
  {
   "cell_type": "code",
   "execution_count": 12,
   "id": "b097de95",
   "metadata": {},
   "outputs": [],
   "source": [
    "# length function\n",
    "def getLength(q):\n",
    " l = 0\n",
    " for i in df[q]:\n",
    "     l += 1\n",
    "\n",
    " return l"
   ]
  },
  {
   "cell_type": "code",
   "execution_count": 14,
   "id": "77e0cb05",
   "metadata": {},
   "outputs": [],
   "source": [
    "# mean function\n",
    "def mean(q):\n",
    " a = df[q]\n",
    " s = 0\n",
    " l = 0\n",
    " for i in a:\n",
    "     s += i\n",
    "     l += 1\n",
    "\n",
    " return (s/l)"
   ]
  },
  {
   "cell_type": "code",
   "execution_count": 15,
   "id": "c015f46f",
   "metadata": {},
   "outputs": [],
   "source": [
    "# Sigma function\n",
    "def sigmaXY(x, y):\n",
    " a = df[x]\n",
    " b = df[y]\n",
    " s = 0\n",
    " for i in range(getLength(x)):\n",
    "     s += a[i]*b[i]\n",
    "\n",
    " return s"
   ]
  },
  {
   "cell_type": "code",
   "execution_count": 18,
   "id": "ad3b6b6e",
   "metadata": {},
   "outputs": [],
   "source": [
    "# Covariance function\n",
    "def covariance(x, y):\n",
    " a = df[x]\n",
    " l = len(a) - 1\n",
    " a_mean = mean(x)\n",
    " b = df[y]\n",
    " b_mean = mean(y)\n",
    " r = []\n",
    "\n",
    "\n",
    " for i in range(len(a)):\n",
    "     k = a[i] - a_mean\n",
    "     t = b[i] - b_mean\n",
    "     g = k*t\n",
    "     r.append(g)\n",
    "\n",
    " return (sum(r)/l)"
   ]
  },
  {
   "cell_type": "code",
   "execution_count": 19,
   "id": "0af0feb8",
   "metadata": {},
   "outputs": [
    {
     "data": {
      "text/plain": [
       "236869900.9090375"
      ]
     },
     "execution_count": 19,
     "metadata": {},
     "output_type": "execute_result"
    }
   ],
   "source": [
    "covariance(\"price\", \"sqft_living\")\n",
    "# This implies that the relationship is positive."
   ]
  },
  {
   "cell_type": "code",
   "execution_count": 20,
   "id": "e9a3db4d",
   "metadata": {},
   "outputs": [],
   "source": [
    "# correlation function\n",
    "def correlation(x, y):\n",
    " c = covariance(x, y)\n",
    " p = (df[x].var())**0.5\n",
    " q = (df[y].var())**0.5\n",
    " r = p*q\n",
    "\n",
    " return (c/r)"
   ]
  },
  {
   "cell_type": "code",
   "execution_count": 21,
   "id": "ce24fb86",
   "metadata": {},
   "outputs": [
    {
     "data": {
      "text/plain": [
       "0.7020437212325263"
      ]
     },
     "execution_count": 21,
     "metadata": {},
     "output_type": "execute_result"
    }
   ],
   "source": [
    "correlation(\"price\", \"sqft_living\")\n"
   ]
  },
  {
   "cell_type": "markdown",
   "id": "40a791d1",
   "metadata": {},
   "source": [
    "As we can see that the Co-efficient of Covariance(Correlation) is 0.7020 in this case, therefore we can say\n",
    "that the two variables (Price and Sqft_Living) here are very much directly related to each other and there is\n",
    "linear relation between them.\n",
    "\n",
    "The closer the value is to 1, the stronger and positively linear relation is seen between the varibles, and the\n",
    "closer they are to 0, the relation is not linear as well as it is a very weak relationship.\n",
    "This is also noted as we scatter plot both the variables.\n",
    "\n",
    "Concluded!\n",
    "\n",
    "Therefore, the bivariate relationship between \"price\" and \"sqft_living\" variables is Positive, Strong and Linear.\n"
   ]
  },
  {
   "cell_type": "code",
   "execution_count": 22,
   "id": "0f7fc73e",
   "metadata": {},
   "outputs": [
    {
     "data": {
      "text/html": [
       "<div>\n",
       "<style scoped>\n",
       "    .dataframe tbody tr th:only-of-type {\n",
       "        vertical-align: middle;\n",
       "    }\n",
       "\n",
       "    .dataframe tbody tr th {\n",
       "        vertical-align: top;\n",
       "    }\n",
       "\n",
       "    .dataframe thead th {\n",
       "        text-align: right;\n",
       "    }\n",
       "</style>\n",
       "<table border=\"1\" class=\"dataframe\">\n",
       "  <thead>\n",
       "    <tr style=\"text-align: right;\">\n",
       "      <th></th>\n",
       "      <th>price</th>\n",
       "      <th>sqft_living</th>\n",
       "    </tr>\n",
       "  </thead>\n",
       "  <tbody>\n",
       "    <tr>\n",
       "      <th>price</th>\n",
       "      <td>1.000000</td>\n",
       "      <td>0.702044</td>\n",
       "    </tr>\n",
       "    <tr>\n",
       "      <th>sqft_living</th>\n",
       "      <td>0.702044</td>\n",
       "      <td>1.000000</td>\n",
       "    </tr>\n",
       "  </tbody>\n",
       "</table>\n",
       "</div>"
      ],
      "text/plain": [
       "                price  sqft_living\n",
       "price        1.000000     0.702044\n",
       "sqft_living  0.702044     1.000000"
      ]
     },
     "execution_count": 22,
     "metadata": {},
     "output_type": "execute_result"
    }
   ],
   "source": [
    "# Correlation Matrix for the two variables, Age and Salary\n",
    "df.corr()"
   ]
  },
  {
   "cell_type": "markdown",
   "id": "0938d136",
   "metadata": {},
   "source": [
    "CONCLUSION : The bivariate association between the two variables here \"price\" and \"sqft_living\" is Positive,Strong and Linear.\n",
    "--\n",
    "\n",
    "\n",
    "\n",
    "\n",
    "\n",
    "\n",
    "\n",
    "\n",
    "\n",
    "\n",
    "\n",
    "\n",
    "\n",
    "\n",
    "\n",
    "\n",
    "\n",
    "\n",
    "\n",
    "\n",
    "\n",
    "\n",
    "\n",
    "\n",
    "\n"
   ]
  },
  {
   "cell_type": "markdown",
   "id": "3ef7d7b1",
   "metadata": {},
   "source": [
    "QUESTION-02\n",
    "--\n"
   ]
  },
  {
   "cell_type": "code",
   "execution_count": 26,
   "id": "232b28bf",
   "metadata": {},
   "outputs": [],
   "source": [
    "tf = pd.read_csv(\"Customer_Behaviour.csv\")\n",
    "tf = tf.drop(labels = [\"User ID\", \"Age\", \"Purchased\"], axis = 1)"
   ]
  },
  {
   "cell_type": "code",
   "execution_count": 27,
   "id": "58f5738f",
   "metadata": {},
   "outputs": [
    {
     "data": {
      "text/html": [
       "<div>\n",
       "<style scoped>\n",
       "    .dataframe tbody tr th:only-of-type {\n",
       "        vertical-align: middle;\n",
       "    }\n",
       "\n",
       "    .dataframe tbody tr th {\n",
       "        vertical-align: top;\n",
       "    }\n",
       "\n",
       "    .dataframe thead th {\n",
       "        text-align: right;\n",
       "    }\n",
       "</style>\n",
       "<table border=\"1\" class=\"dataframe\">\n",
       "  <thead>\n",
       "    <tr style=\"text-align: right;\">\n",
       "      <th></th>\n",
       "      <th>Gender</th>\n",
       "      <th>Salary</th>\n",
       "    </tr>\n",
       "  </thead>\n",
       "  <tbody>\n",
       "    <tr>\n",
       "      <th>0</th>\n",
       "      <td>Male</td>\n",
       "      <td>19000</td>\n",
       "    </tr>\n",
       "    <tr>\n",
       "      <th>1</th>\n",
       "      <td>Male</td>\n",
       "      <td>20000</td>\n",
       "    </tr>\n",
       "    <tr>\n",
       "      <th>2</th>\n",
       "      <td>Female</td>\n",
       "      <td>43000</td>\n",
       "    </tr>\n",
       "    <tr>\n",
       "      <th>3</th>\n",
       "      <td>Female</td>\n",
       "      <td>57000</td>\n",
       "    </tr>\n",
       "    <tr>\n",
       "      <th>4</th>\n",
       "      <td>Male</td>\n",
       "      <td>76000</td>\n",
       "    </tr>\n",
       "    <tr>\n",
       "      <th>...</th>\n",
       "      <td>...</td>\n",
       "      <td>...</td>\n",
       "    </tr>\n",
       "    <tr>\n",
       "      <th>395</th>\n",
       "      <td>Female</td>\n",
       "      <td>41000</td>\n",
       "    </tr>\n",
       "    <tr>\n",
       "      <th>396</th>\n",
       "      <td>Male</td>\n",
       "      <td>23000</td>\n",
       "    </tr>\n",
       "    <tr>\n",
       "      <th>397</th>\n",
       "      <td>Female</td>\n",
       "      <td>20000</td>\n",
       "    </tr>\n",
       "    <tr>\n",
       "      <th>398</th>\n",
       "      <td>Male</td>\n",
       "      <td>33000</td>\n",
       "    </tr>\n",
       "    <tr>\n",
       "      <th>399</th>\n",
       "      <td>Female</td>\n",
       "      <td>36000</td>\n",
       "    </tr>\n",
       "  </tbody>\n",
       "</table>\n",
       "<p>400 rows × 2 columns</p>\n",
       "</div>"
      ],
      "text/plain": [
       "     Gender  Salary\n",
       "0      Male   19000\n",
       "1      Male   20000\n",
       "2    Female   43000\n",
       "3    Female   57000\n",
       "4      Male   76000\n",
       "..      ...     ...\n",
       "395  Female   41000\n",
       "396    Male   23000\n",
       "397  Female   20000\n",
       "398    Male   33000\n",
       "399  Female   36000\n",
       "\n",
       "[400 rows x 2 columns]"
      ]
     },
     "execution_count": 27,
     "metadata": {},
     "output_type": "execute_result"
    }
   ],
   "source": [
    "tf"
   ]
  },
  {
   "cell_type": "code",
   "execution_count": 28,
   "id": "f6a4ba00",
   "metadata": {},
   "outputs": [],
   "source": [
    "# The Numerical Variable here is \"Salary\" and Categorical Variable is \"Gender\".\n",
    "# Formula :\n",
    "# r = (mean(x1) - mean(x0))/S X (x0*x1)**0.5"
   ]
  },
  {
   "cell_type": "code",
   "execution_count": 30,
   "id": "d15d7394",
   "metadata": {},
   "outputs": [],
   "source": [
    "# Mean of Gender Entities(Male/Female)\n",
    "def meanGender(x):\n",
    " a = tf[\"Gender\"]\n",
    " b = tf[\"Salary\"]\n",
    "\n",
    " s = 0\n",
    " l = 0\n",
    "\n",
    " for i in range(len(a)):\n",
    "     if a[i] == x:\n",
    "         s += b[i]\n",
    "         l += 1\n",
    " return (s/l)"
   ]
  },
  {
   "cell_type": "code",
   "execution_count": 37,
   "id": "5a63ff12",
   "metadata": {},
   "outputs": [],
   "source": [
    "def proportion(x):\n",
    " a = tf[\"Gender\"]\n",
    "\n",
    " l = len(a)\n",
    "\n",
    " c = 0\n",
    "\n",
    " for i in a:\n",
    "     if i == x:\n",
    "         c += 1\n",
    "\n",
    " return (c/l)"
   ]
  },
  {
   "cell_type": "code",
   "execution_count": 38,
   "id": "07964fd0",
   "metadata": {},
   "outputs": [],
   "source": [
    "def sd(x):\n",
    " a = tf[x]\n",
    "\n",
    " v = a.var()\n",
    "\n",
    "\n",
    " return v**0.5"
   ]
  },
  {
   "cell_type": "code",
   "execution_count": 39,
   "id": "353a4467",
   "metadata": {},
   "outputs": [
    {
     "name": "stdout",
     "output_type": "stream",
     "text": [
      "67642.85714285714\n",
      "71759.80392156863\n"
     ]
    }
   ],
   "source": [
    "# 1 --> Male\n",
    "# 0 --> Female\n",
    "x1_mean = meanGender(\"Male\")\n",
    "x0_mean = meanGender(\"Female\")\n",
    "print(x1_mean)\n",
    "print(x0_mean)"
   ]
  },
  {
   "cell_type": "code",
   "execution_count": 40,
   "id": "bd27d93f",
   "metadata": {},
   "outputs": [
    {
     "name": "stdout",
     "output_type": "stream",
     "text": [
      "0.49\n",
      "0.51\n"
     ]
    }
   ],
   "source": [
    "x1 = proportion(\"Male\")\n",
    "x0 = proportion(\"Female\")\n",
    "print(x1)\n",
    "print(x0)"
   ]
  },
  {
   "cell_type": "code",
   "execution_count": 41,
   "id": "8d68c8f0",
   "metadata": {},
   "outputs": [
    {
     "name": "stdout",
     "output_type": "stream",
     "text": [
      "34096.960282424785\n"
     ]
    }
   ],
   "source": [
    "# Standard Deviation\n",
    "S = sd(\"Salary\")\n",
    "print(S)"
   ]
  },
  {
   "cell_type": "code",
   "execution_count": 43,
   "id": "82e9322a",
   "metadata": {},
   "outputs": [
    {
     "name": "stdout",
     "output_type": "stream",
     "text": [
      "Point Biserial Correlation Value :  -0.06035909466571985\n"
     ]
    }
   ],
   "source": [
    "k = x1_mean - x0_mean\n",
    "g = k/S\n",
    "an = x1*x0\n",
    "ak = an**0.5\n",
    "print(\"Point Biserial Correlation Value : \",g*ak)"
   ]
  },
  {
   "cell_type": "markdown",
   "id": "4ed355d6",
   "metadata": {},
   "source": [
    "The Negative Value of Point Biserial Correlation clearly indicates that there is negative relation between the\n",
    "variables here \"Gender\" and \"Salary\".\n",
    "\n",
    "Also the value is closer to 0, that means it is Weak Relation.\n",
    "\n",
    "Therefore, the relationship between the variables here \"Gender\" and \"Salary\" is Negative and Weak."
   ]
  },
  {
   "cell_type": "markdown",
   "id": "e39d9304",
   "metadata": {},
   "source": [
    "CONCLUSION : The relationship between the variables here \"Gender\" and \"Salary\" is Negative and Weak.\n",
    "--\n"
   ]
  }
 ],
 "metadata": {
  "kernelspec": {
   "display_name": "Python 3",
   "language": "python",
   "name": "python3"
  },
  "language_info": {
   "codemirror_mode": {
    "name": "ipython",
    "version": 3
   },
   "file_extension": ".py",
   "mimetype": "text/x-python",
   "name": "python",
   "nbconvert_exporter": "python",
   "pygments_lexer": "ipython3",
   "version": "3.8.8"
  }
 },
 "nbformat": 4,
 "nbformat_minor": 5
}
